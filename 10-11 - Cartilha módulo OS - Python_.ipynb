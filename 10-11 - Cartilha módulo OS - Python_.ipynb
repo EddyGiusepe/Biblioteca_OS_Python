{
 "cells": [
  {
   "cell_type": "markdown",
   "source": [
    "# Cartilha Biblioteca OS - Python"
   ],
   "metadata": {}
  },
  {
   "cell_type": "markdown",
   "source": [
    "## Documentação:"
   ],
   "metadata": {}
  },
  {
   "cell_type": "markdown",
   "source": [
    "Link1: https://www.python101.pythonlibrary.org/chapter16_os.html<br>\n",
    "Link2: https://python.readthedocs.io/en/stable/library/os.html"
   ],
   "metadata": {}
  },
  {
   "cell_type": "markdown",
   "source": [
    "## Importação:"
   ],
   "metadata": {}
  },
  {
   "cell_type": "code",
   "execution_count": 36,
   "source": [
    "import os"
   ],
   "outputs": [],
   "metadata": {}
  },
  {
   "cell_type": "markdown",
   "source": [
    "## Principais métodos"
   ],
   "metadata": {}
  },
  {
   "cell_type": "markdown",
   "source": [
    "## Dados do sistema:"
   ],
   "metadata": {}
  },
  {
   "cell_type": "code",
   "execution_count": 37,
   "source": [
    "sistema = os.environ\n",
    "print(sistema)"
   ],
   "outputs": [
    {
     "output_type": "stream",
     "name": "stdout",
     "text": [
      "environ({'SHELL': '/bin/bash', 'SESSION_MANAGER': 'local/eddygiusepe:@/tmp/.ICE-unix/3241,unix/eddygiusepe:/tmp/.ICE-unix/3241', 'QT_ACCESSIBILITY': '1', 'VSCODE_VERBOSE_LOGGING': 'true', 'XDG_CONFIG_DIRS': '/etc/xdg/xdg-ubuntu:/etc/xdg', 'PYTHONUNBUFFERED': '1', 'XDG_MENU_PREFIX': 'gnome-', 'GNOME_DESKTOP_SESSION_ID': 'this-is-deprecated', 'APPLICATION_INSIGHTS_NO_DIAGNOSTIC_CHANNEL': 'true', 'VSCODE_LOG_STACK': 'false', 'rvm_prefix': '/usr/share', 'LANGUAGE': 'pt_BR:pt:en', 'WALLABY_PRODUCTION': 'true', 'MANDATORY_PATH': '/usr/share/gconf/ubuntu.mandatory.path', 'GNOME_SHELL_SESSION_MODE': 'ubuntu', 'SSH_AUTH_SOCK': '/run/user/1000/keyring/ssh', 'BREAKPAD_DUMP_LOCATION': '/home/eddygiusepe/.config/Code/exthost Crash Reports', 'ELECTRON_RUN_AS_NODE': '1', 'XMODIFIERS': '@im=ibus', 'DESKTOP_SESSION': 'ubuntu', 'VSCODE_PIPE_LOGGING': 'true', 'SSH_AGENT_PID': '3197', 'VSCODE_AMD_ENTRYPOINT': 'vs/workbench/services/extensions/node/extensionHostProcess', 'GTK_MODULES': 'gail:atk-bridge', 'DBUS_STARTER_BUS_TYPE': 'session', 'PWD': '/home/eddygiusepe', 'XDG_SESSION_DESKTOP': 'ubuntu', 'LOGNAME': 'eddygiusepe', 'XDG_SESSION_TYPE': 'x11', 'rvm_version': '1.29.12 (manual)', 'GPG_AGENT_INFO': '/run/user/1000/gnupg/S.gpg-agent:0:1', 'VSCODE_CODE_CACHE_PATH': '/home/eddygiusepe/.config/Code/CachedData/83bd43bc519d15e50c4272c6cf5c1479df196a4d', 'XAUTHORITY': '/run/user/1000/gdm/Xauthority', 'WINDOWPATH': '2', 'HOME': '/home/eddygiusepe', 'USERNAME': 'eddygiusepe', 'IM_CONFIG_PHASE': '1', 'LANG': 'pt_BR.UTF-8', 'VSCODE_IPC_HOOK_EXTHOST': '/run/user/1000/vscode-ipc-bb119a7e-c828-42f4-bfb8-44a9774f6213.sock', 'XDG_CURRENT_DESKTOP': 'Unity', 'VIRTUAL_ENV': '/home/eddygiusepe/5_praticando_Python/Biblioteca_OS_Python/venv', 'VSCODE_IPC_HOOK': '/run/user/1000/vscode-f9a2f92c-1.60.1-main.sock', 'INVOCATION_ID': '1a2fe6a50c164e40b828542cfdedf814', 'MANAGERPID': '2938', 'CHROME_DESKTOP': 'code-url-handler.desktop', 'rvm_bin_path': '/usr/share/rvm/bin', 'XDG_SESSION_CLASS': 'user', 'DEFAULTS_PATH': '/usr/share/gconf/ubuntu.default.path', 'USER': 'eddygiusepe', 'PYTHONIOENCODING': 'utf-8', 'DISPLAY': ':0', 'VSCODE_PID': '7426', 'SHLVL': '0', 'QT_IM_MODULE': 'ibus', 'VSCODE_CWD': '/home/eddygiusepe', 'DBUS_STARTER_ADDRESS': 'unix:path=/run/user/1000/bus,guid=06786472ee4955015d19226c616c381f', 'XDG_RUNTIME_DIR': '/run/user/1000', 'PS1': '(venv) ', 'VSCODE_CRASH_REPORTER_START_OPTIONS': '{\"companyName\":\"Microsoft\",\"productName\":\"VSCode\",\"submitURL\":\"appcenter://code?aid=fba07a4d-84bd-4fc8-a125-9640fc8ce171&uid=7266cdf0-8bd0-4b9d-8b25-5566bbabbdce&iid=7266cdf0-8bd0-4b9d-8b25-5566bbabbdce&sid=7266cdf0-8bd0-4b9d-8b25-5566bbabbdce\",\"uploadToServer\":true}', 'JOURNAL_STREAM': '8:60214', 'XDG_DATA_DIRS': '/usr/share/ubuntu:/usr/local/share/:/usr/share/:/var/lib/snapd/desktop', 'GDK_BACKEND': 'x11', 'PATH': '/home/eddygiusepe/5_praticando_Python/Biblioteca_OS_Python/venv/bin:/home/eddygiusepe/.local/bin:/home/eddygiusepe/.local/bin:/usr/local/sbin:/usr/local/bin:/usr/sbin:/usr/bin:/sbin:/bin:/usr/games:/usr/local/games:/snap/bin:/usr/share/rvm/bin', 'GDMSESSION': 'ubuntu', 'ORIGINAL_XDG_CURRENT_DESKTOP': 'ubuntu:GNOME', 'DBUS_SESSION_BUS_ADDRESS': 'unix:path=/run/user/1000/bus,guid=06786472ee4955015d19226c616c381f', 'VSCODE_NLS_CONFIG': '{\"locale\":\"pt-br\",\"availableLanguages\":{},\"_languagePackSupport\":true}', 'VSCODE_LOG_NATIVE': 'false', 'GIO_LAUNCHED_DESKTOP_FILE_PID': '7426', 'GIO_LAUNCHED_DESKTOP_FILE': '/usr/share/applications/code.desktop', 'VSCODE_HANDLES_UNCAUGHT_ERRORS': 'true', 'rvm_path': '/usr/share/rvm', '_': '/home/eddygiusepe/5_praticando_Python/Biblioteca_OS_Python/venv/bin/python', 'PYTHONPATH': '/home/eddygiusepe/.vscode/extensions/ms-toolsai.jupyter-2021.8.2041215044/pythonFiles:/home/eddygiusepe/.vscode/extensions/ms-toolsai.jupyter-2021.8.2041215044/pythonFiles/lib/python', 'JPY_PARENT_PID': '10606', 'PYDEVD_USE_FRAME_EVAL': 'NO', 'TERM': 'xterm-color', 'CLICOLOR': '1', 'PAGER': 'cat', 'GIT_PAGER': 'cat', 'MPLBACKEND': 'module://matplotlib_inline.backend_inline'})\n"
     ]
    }
   ],
   "metadata": {}
  },
  {
   "cell_type": "code",
   "execution_count": 38,
   "source": [
    "print(sistema[\"USERNAME\"])"
   ],
   "outputs": [
    {
     "output_type": "stream",
     "name": "stdout",
     "text": [
      "eddygiusepe\n"
     ]
    }
   ],
   "metadata": {}
  },
  {
   "cell_type": "markdown",
   "source": [
    "## Trabalhando com pastas:"
   ],
   "metadata": {}
  },
  {
   "cell_type": "markdown",
   "source": [
    "### os.getcwd():"
   ],
   "metadata": {}
  },
  {
   "cell_type": "code",
   "execution_count": 39,
   "source": [
    "caminho = os.getcwd()\n",
    "print(caminho)"
   ],
   "outputs": [
    {
     "output_type": "stream",
     "name": "stdout",
     "text": [
      "/home/eddygiusepe/5_praticando_Python\n"
     ]
    }
   ],
   "metadata": {}
  },
  {
   "cell_type": "markdown",
   "source": [
    "### os.chdir():"
   ],
   "metadata": {}
  },
  {
   "cell_type": "code",
   "execution_count": 40,
   "source": [
    "novo_caminho = r\"/home/eddygiusepe/5_praticando_Python\"\n",
    "os.chdir(novo_caminho) \n",
    "print(os.getcwd())"
   ],
   "outputs": [
    {
     "output_type": "stream",
     "name": "stdout",
     "text": [
      "/home/eddygiusepe/5_praticando_Python\n"
     ]
    }
   ],
   "metadata": {}
  },
  {
   "cell_type": "markdown",
   "source": [
    "### os.mkdir()  e os.listdir()"
   ],
   "metadata": {}
  },
  {
   "cell_type": "code",
   "execution_count": 41,
   "source": [
    "os.mkdir(\"TESTE_de_criar_pasta_2\")\n",
    "print(os.listdir()) # Lista todos os arquivos de uma pasta"
   ],
   "outputs": [
    {
     "output_type": "stream",
     "name": "stdout",
     "text": [
      "['Deploy_com_ML', 'estrutura_repeticao_PYTHON', 'API_Django_1', 'Python_SQL_INTEGRACAO', 'python_COVID-19', 'REGEX_Python', 'TESTE_de_criar_pasta_2', 'Barra_de_progresso_python', 'API_com_Python', 'Python_inserindo_imagens', 'exemplo_class_1', 'Repasso_Python', 'Biblioteca_OS_Python', 'API_Django_2']\n"
     ]
    }
   ],
   "metadata": {}
  },
  {
   "cell_type": "markdown",
   "source": [
    "### os.mkdirs()"
   ],
   "metadata": {}
  },
  {
   "cell_type": "code",
   "execution_count": 42,
   "source": [
    "caminho = r\"/home/eddygiusepe/5_praticando_Python/Primeira Pasta/Segunda Pasta/Terceira Pasta\"\n",
    "os.makedirs(caminho)\n",
    "print(print(os.listdir()))"
   ],
   "outputs": [
    {
     "output_type": "stream",
     "name": "stdout",
     "text": [
      "['Deploy_com_ML', 'estrutura_repeticao_PYTHON', 'API_Django_1', 'Python_SQL_INTEGRACAO', 'python_COVID-19', 'REGEX_Python', 'TESTE_de_criar_pasta_2', 'Barra_de_progresso_python', 'API_com_Python', 'Python_inserindo_imagens', 'exemplo_class_1', 'Repasso_Python', 'Primeira Pasta', 'Biblioteca_OS_Python', 'API_Django_2']\n",
      "None\n"
     ]
    }
   ],
   "metadata": {}
  },
  {
   "cell_type": "markdown",
   "source": [
    "### os.rmdir()"
   ],
   "metadata": {}
  },
  {
   "cell_type": "code",
   "execution_count": 43,
   "source": [
    "#só quando a pasta estiver vazia\n",
    "os.rmdir(r'/home/eddygiusepe/5_praticando_Python/Primeira Pasta/Segunda Pasta/Terceira Pasta')\n",
    "\n",
    "# Você pode verificar que foi removido a \"Terceira Pasta\""
   ],
   "outputs": [],
   "metadata": {}
  },
  {
   "cell_type": "code",
   "execution_count": 44,
   "source": [
    "print(print(os.listdir()))"
   ],
   "outputs": [
    {
     "output_type": "stream",
     "name": "stdout",
     "text": [
      "['Deploy_com_ML', 'estrutura_repeticao_PYTHON', 'API_Django_1', 'Python_SQL_INTEGRACAO', 'python_COVID-19', 'REGEX_Python', 'TESTE_de_criar_pasta_2', 'Barra_de_progresso_python', 'API_com_Python', 'Python_inserindo_imagens', 'exemplo_class_1', 'Repasso_Python', 'Primeira Pasta', 'Biblioteca_OS_Python', 'API_Django_2']\n",
      "None\n"
     ]
    }
   ],
   "metadata": {}
  },
  {
   "cell_type": "code",
   "execution_count": null,
   "source": [
    "pastas = os.scandir(r\"C:\\Users\\danie\\OneDrive\\Área de Trabalho\")\n",
    "for _dir in pastas:\n",
    "    print (_dir.is_file())\n",
    "    #print (_dir.is_dir())\n",
    "    #print (_dir.path)\n",
    "    "
   ],
   "outputs": [],
   "metadata": {}
  },
  {
   "cell_type": "markdown",
   "source": [
    "## Trabalhando com arquivos:"
   ],
   "metadata": {}
  },
  {
   "cell_type": "markdown",
   "source": [
    "### os.startfile()"
   ],
   "metadata": {}
  },
  {
   "cell_type": "code",
   "execution_count": null,
   "source": [
    "os.getcwd()\n",
    "os.startfile('arquivo.txt')"
   ],
   "outputs": [],
   "metadata": {}
  },
  {
   "cell_type": "markdown",
   "source": [
    "### os.rename()"
   ],
   "metadata": {}
  },
  {
   "cell_type": "code",
   "execution_count": null,
   "source": [
    "os.rename('novoarquivo.txt','antigoarquivo.txt')"
   ],
   "outputs": [],
   "metadata": {}
  },
  {
   "cell_type": "markdown",
   "source": [
    "### os.remove()"
   ],
   "metadata": {}
  },
  {
   "cell_type": "code",
   "execution_count": null,
   "source": [
    "os.remove('arquivo.txt')"
   ],
   "outputs": [],
   "metadata": {}
  },
  {
   "cell_type": "markdown",
   "source": [
    "### os.walk()"
   ],
   "metadata": {}
  },
  {
   "cell_type": "code",
   "execution_count": null,
   "source": [
    "for root, dirs, files in os.walk(os.getcwd()):\n",
    "        print(files)"
   ],
   "outputs": [],
   "metadata": {}
  },
  {
   "cell_type": "markdown",
   "source": [
    "## Caminhos ( submódulo os.path)\n",
    "https://python.readthedocs.io/en/stable/library/os.path.html#module-os.path"
   ],
   "metadata": {}
  },
  {
   "cell_type": "markdown",
   "source": [
    "### os.path.basename()"
   ],
   "metadata": {}
  },
  {
   "cell_type": "code",
   "execution_count": null,
   "source": [
    "print(os.getcwd())\n",
    "print(os.path.basename(os.getcwd()))"
   ],
   "outputs": [],
   "metadata": {}
  },
  {
   "cell_type": "markdown",
   "source": [
    "### os.path.commonpath()"
   ],
   "metadata": {}
  },
  {
   "cell_type": "code",
   "execution_count": null,
   "source": [
    "caminho1=r'C:\\Users\\danie\\OneDrive\\Área de Trabalho\\Pasta_raiz\\Pasta Raíz 1\\Pasta 1'\n",
    "caminho2=r'C:\\Users\\danie\\OneDrive\\Área de Trabalho\\Pasta_raiz\\Pasta Raíz 1\\Pasta 2\\Outra Pasta'\n",
    "print(os.path.commonpath([caminho1,caminho2]))\n"
   ],
   "outputs": [],
   "metadata": {}
  },
  {
   "cell_type": "markdown",
   "source": [
    "### os.path.commonprefix()"
   ],
   "metadata": {}
  },
  {
   "cell_type": "code",
   "execution_count": null,
   "source": [
    "print(os.path.commonprefix([caminho1,caminho2]))"
   ],
   "outputs": [],
   "metadata": {}
  },
  {
   "cell_type": "markdown",
   "source": [
    "### os.path.dirname()"
   ],
   "metadata": {}
  },
  {
   "cell_type": "code",
   "execution_count": null,
   "source": [
    "print(os.path.dirname(caminho2))"
   ],
   "outputs": [],
   "metadata": {}
  },
  {
   "cell_type": "markdown",
   "source": [
    "### os.path.join()"
   ],
   "metadata": {}
  },
  {
   "cell_type": "code",
   "execution_count": null,
   "source": [
    "drive = \"C:\"\n",
    "usuario = \"danie\"\n",
    "pasta_base = \"Área de Trabalho\"\n",
    "\n",
    "caminho = os.path.join(drive,r'\\Users',usuario,'OneDrive',pasta_base)\n",
    "print(caminho)\n",
    "\n",
    "os.chdir(caminho)"
   ],
   "outputs": [],
   "metadata": {}
  }
 ],
 "metadata": {
  "kernelspec": {
   "name": "python3",
   "display_name": "Python 3.8.10 64-bit ('venv': venv)"
  },
  "language_info": {
   "codemirror_mode": {
    "name": "ipython",
    "version": 3
   },
   "file_extension": ".py",
   "mimetype": "text/x-python",
   "name": "python",
   "nbconvert_exporter": "python",
   "pygments_lexer": "ipython3",
   "version": "3.8.10"
  },
  "interpreter": {
   "hash": "05f7c62fb368aa81154ed90798b8496fb967270094d60496896d2ba50792a502"
  }
 },
 "nbformat": 4,
 "nbformat_minor": 4
}